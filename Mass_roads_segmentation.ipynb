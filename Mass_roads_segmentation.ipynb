{
 "cells": [
  {
   "cell_type": "code",
   "execution_count": null,
   "metadata": {
    "id": "43jzhRM0EFzg"
   },
   "outputs": [],
   "source": [
    "import os\n",
    "import numpy as np\n",
    "import cv2"
   ]
  },
  {
   "cell_type": "code",
   "execution_count": null,
   "metadata": {
    "id": "_uvDclKiFPfZ"
   },
   "outputs": [],
   "source": [
    "ROOT_DIR = 'road_segmentation_ideal'\n",
    "\n",
    "train_inputs_dir = os.path.join(ROOT_DIR, 'training/input')\n",
    "train_masks_dir = os.path.join(ROOT_DIR, 'training/output')\n",
    "\n",
    "test_inputs_dir = os.path.join(ROOT_DIR, 'testing/input')\n",
    "test_masks_dir = os.path.join(ROOT_DIR, 'testing/output')\n",
    "\n",
    "train_df = os.listdir(train_masks_dir)\n",
    "test_df = os.listdir(test_inputs_dir)"
   ]
  },
  {
   "cell_type": "code",
   "execution_count": null,
   "metadata": {
    "id": "0ZBhzFHsS58U"
   },
   "outputs": [],
   "source": [
    "from torch.utils.data import DataLoader, Dataset"
   ]
  },
  {
   "cell_type": "code",
   "execution_count": null,
   "metadata": {
    "id": "QSfP4uGTSuXH"
   },
   "outputs": [],
   "source": [
    "class RoadsDataset(Dataset):\n",
    "  \n",
    "  def __init__(self, df, images_dir, masks_dir, augmentation=None, preprocessing=None):\n",
    "\n",
    "    self.mask_names = df\n",
    "\n",
    "    self.images = [os.path.join(images_dir, image_name) for image_name in self.mask_names]\n",
    "    self.masks = [os.path.join(masks_dir, image_name) for image_name in self.mask_names]\n",
    "\n",
    "    self.augmentation = augmentation\n",
    "    self.preprocessing = preprocessing\n",
    "\n",
    "  def __getitem__(self, i):\n",
    "\n",
    "    image = cv2.imread(self.images[i])\n",
    "    image = cv2.cvtColor(image, cv2.COLOR_BGR2RGB)\n",
    "    image = np.array(image)\n",
    "    mask = cv2.imread(self.masks[i], 0)\n",
    "    masks = [(mask == 255)]\n",
    "    mask = np.stack(masks, axis=-1).astype('float')\n",
    "    \n",
    "    if self.augmentation:  \n",
    "      aug=self.augmentation(image=image, mask=mask)\n",
    "      image, mask = aug['image'], aug['mask']\n",
    "\n",
    "    if self.preprocessing:\n",
    "      sample = self.preprocessing(image=image, mask=mask)\n",
    "      image, mask = sample['image'], sample['mask']\n",
    "\n",
    "    return image, mask\n",
    "\n",
    "\n",
    "  def __len__(self):\n",
    "    return len(self.mask_names)"
   ]
  },
  {
   "cell_type": "code",
   "execution_count": null,
   "metadata": {
    "id": "D-MC3eHkWgec"
   },
   "outputs": [],
   "source": [
    "def RoadsDSLoader(df, imgs_dir, masks_dir, batch_size, shuffle, num_workers, augmentation = None, preprocessing = None):\n",
    "\n",
    "  dataset = RoadsDataset(df, imgs_dir, masks_dir, augmentation=augmentation, preprocessing=preprocessing)\n",
    "  dataloader = DataLoader(dataset, batch_size=batch_size, shuffle=shuffle, num_workers=num_workers)\n",
    "\n",
    "  return dataloader"
   ]
  },
  {
   "cell_type": "code",
   "execution_count": null,
   "metadata": {
    "id": "HJft3L0oDO6j"
   },
   "outputs": [],
   "source": [
    "import albumentations as albu"
   ]
  },
  {
   "cell_type": "code",
   "execution_count": null,
   "metadata": {
    "id": "m_F8BFe9keRo"
   },
   "outputs": [],
   "source": [
    "def get_train_aug():\n",
    "\n",
    "    train_transform = [\n",
    "        albu.HorizontalFlip(p=0.5),\n",
    "        albu.RandomCrop(height=320, width=320, always_apply=True)\n",
    "    ]\n",
    "    return albu.Compose(train_transform)\n",
    "\n",
    "\n",
    "def get_val_aug():\n",
    "\n",
    "    val_transform = [\n",
    "        albu.PadIfNeeded(min_height=1504, min_width=1504, border_mode = cv2.BORDER_CONSTANT, value=0, mask_value=0)\n",
    "    ]\n",
    "    return albu.Compose(val_transform)\n",
    "\n",
    "\n",
    "def to_tensor(x, **kwargs):\n",
    "    return x.transpose(2, 0, 1).astype('float32')\n",
    "\n",
    "\n",
    "def get_preprocessing(preprocessing_fn):\n",
    "\n",
    "    transform_  = [\n",
    "        albu.Lambda(image=preprocessing_fn),\n",
    "        albu.Lambda(image=to_tensor, mask=to_tensor)\n",
    "    ]\n",
    "    return albu.Compose(transform_)"
   ]
  },
  {
   "cell_type": "code",
   "execution_count": null,
   "metadata": {
    "id": "nWAoW5Y1uNsS"
   },
   "outputs": [],
   "source": [
    "import torch\n",
    "import segmentation_models_pytorch as smp"
   ]
  },
  {
   "cell_type": "code",
   "execution_count": null,
   "metadata": {
    "colab": {
     "base_uri": "https://localhost:8080/",
     "height": 87,
     "referenced_widgets": [
      "f9dcf3e2c5c54d56852f30c606a3e540",
      "f055fb5b76cf4030bcd4e1e8f02b09b2",
      "5bd239227acc4cce9609e999d9623102",
      "cfb6cbfa3cbd4e89aab44d6c999a2b70",
      "99691bb3133a4e259e5513c34d3523ae",
      "3b5c8b6b1e204557b64a575905553b4c",
      "c17d80bcf799468e99260594ec88eefa",
      "392aa91f424c4c68b39d04dcff0f1282",
      "0f2062694e4945b7ac50a7ad8c0ff683",
      "5cc5cc4aa0274660959ea9ab12b47e92",
      "a6a76af027444e199c905895d344d7b1"
     ]
    },
    "id": "muf1x8J_tt2L",
    "outputId": "5abb45e6-3cc4-4d8d-cfa6-f518fc34886c"
   },
   "outputs": [
    {
     "name": "stderr",
     "output_type": "stream",
     "text": [
      "Downloading: \"https://github.com/lukemelas/EfficientNet-PyTorch/releases/download/1.0/efficientnet-b5-b6417697.pth\" to /root/.cache/torch/hub/checkpoints/efficientnet-b5-b6417697.pth\n"
     ]
    },
    {
     "data": {
      "application/vnd.jupyter.widget-view+json": {
       "model_id": "f9dcf3e2c5c54d56852f30c606a3e540",
       "version_major": 2,
       "version_minor": 0
      },
      "text/plain": [
       "  0%|          | 0.00/117M [00:00<?, ?B/s]"
      ]
     },
     "metadata": {},
     "output_type": "display_data"
    }
   ],
   "source": [
    "ENCODER = 'efficientnet-b5'\n",
    "ENCODER_WEIGHTS = 'imagenet'\n",
    "DEVICE = 'cuda'\n",
    "\n",
    "model = smp.Unet(\n",
    "    encoder_name=ENCODER, \n",
    "    encoder_weights=ENCODER_WEIGHTS, \n",
    "    classes=1, \n",
    "    activation='sigmoid',\n",
    ")\n",
    "\n",
    "preprocessing_fn = smp.encoders.get_preprocessing_fn(ENCODER, ENCODER_WEIGHTS)"
   ]
  },
  {
   "cell_type": "code",
   "execution_count": null,
   "metadata": {
    "id": "RW6vwBTyXmJm"
   },
   "outputs": [],
   "source": [
    "from sklearn.model_selection import train_test_split"
   ]
  },
  {
   "cell_type": "code",
   "execution_count": null,
   "metadata": {
    "id": "eHume0GCqTn-"
   },
   "outputs": [],
   "source": [
    "df_train, df_valid = train_test_split(train_df, test_size=0.15, random_state = 42)\n",
    "\n",
    "train_loader = RoadsDSLoader(df_train, train_inputs_dir, train_masks_dir, batch_size=16, shuffle=True, num_workers=1, augmentation=get_train_aug(), preprocessing=get_preprocessing(preprocessing_fn))\n",
    "valid_loader = RoadsDSLoader(df_valid, train_inputs_dir, train_masks_dir, batch_size=2, shuffle=False, num_workers=1, augmentation=get_val_aug(), preprocessing=get_preprocessing(preprocessing_fn))"
   ]
  },
  {
   "cell_type": "code",
   "execution_count": null,
   "metadata": {
    "id": "MGykQe35sEI5"
   },
   "outputs": [],
   "source": [
    "loss = smp.utils.losses.DiceLoss()\n",
    "metrics = [\n",
    "    smp.utils.metrics.IoU(threshold = 0.5),\n",
    "    smp.utils.metrics.Accuracy(),\n",
    "    smp.utils.metrics.Precision(),\n",
    "    smp.utils.metrics.Recall()\n",
    "]\n",
    "\n",
    "optimizer = torch.optim.Adam([ \n",
    "    dict(params=model.parameters(), lr=0.0001),\n",
    "])"
   ]
  },
  {
   "cell_type": "code",
   "execution_count": null,
   "metadata": {
    "id": "VxSouP0MuFMx"
   },
   "outputs": [],
   "source": [
    "train_epoch = smp.utils.train.TrainEpoch(\n",
    "    model, \n",
    "    loss=loss, \n",
    "    metrics=metrics, \n",
    "    optimizer=optimizer,\n",
    "    device=DEVICE,\n",
    "    verbose=True,\n",
    ")\n",
    "\n",
    "valid_epoch = smp.utils.train.ValidEpoch(\n",
    "    model, \n",
    "    loss=loss, \n",
    "    metrics=metrics, \n",
    "    device=DEVICE,\n",
    "    verbose=True,\n",
    ")"
   ]
  },
  {
   "cell_type": "code",
   "execution_count": 15,
   "metadata": {
    "colab": {
     "base_uri": "https://localhost:8080/"
    },
    "id": "6Bhn0hngPvD8",
    "outputId": "1a2f67c7-3c1a-40c5-9c2f-26b241a42562"
   },
   "outputs": [
    {
     "name": "stdout",
     "output_type": "stream",
     "text": [
      "\n",
      "Epoch: 0\n",
      "train: 100%|██████████| 43/43 [14:58<00:00, 20.90s/it, dice_loss - 0.8834, iou_score - 0.09608, accuracy - 0.7632, precision - 0.1064, recall - 0.4898]\n",
      "valid: 100%|██████████| 61/61 [02:53<00:00,  2.84s/it, dice_loss - 0.8448, iou_score - 0.1553, accuracy - 0.7749, precision - 0.1612, recall - 0.8178]\n",
      "\n",
      "Epoch: 1\n",
      "train: 100%|██████████| 43/43 [01:22<00:00,  1.92s/it, dice_loss - 0.8218, iou_score - 0.1818, accuracy - 0.8032, precision - 0.1874, recall - 0.8613]\n",
      "valid: 100%|██████████| 61/61 [00:31<00:00,  1.95it/s, dice_loss - 0.7733, iou_score - 0.3115, accuracy - 0.9043, precision - 0.3332, recall - 0.8273]\n",
      "\n",
      "Epoch: 2\n",
      "train: 100%|██████████| 43/43 [01:21<00:00,  1.89s/it, dice_loss - 0.7588, iou_score - 0.2706, accuracy - 0.8728, precision - 0.282, recall - 0.8871]\n",
      "valid: 100%|██████████| 61/61 [00:31<00:00,  1.94it/s, dice_loss - 0.7294, iou_score - 0.3327, accuracy - 0.9101, precision - 0.35, recall - 0.8691]\n",
      "\n",
      "Epoch: 3\n",
      "train: 100%|██████████| 43/43 [01:21<00:00,  1.88s/it, dice_loss - 0.7132, iou_score - 0.3361, accuracy - 0.9102, precision - 0.3533, recall - 0.8791]\n",
      "valid: 100%|██████████| 61/61 [00:32<00:00,  1.88it/s, dice_loss - 0.6908, iou_score - 0.4, accuracy - 0.9336, precision - 0.4316, recall - 0.845]\n",
      "\n",
      "Epoch: 4\n",
      "train: 100%|██████████| 43/43 [01:20<00:00,  1.88s/it, dice_loss - 0.6666, iou_score - 0.3932, accuracy - 0.935, precision - 0.4241, recall - 0.8476]\n",
      "valid: 100%|██████████| 61/61 [00:32<00:00,  1.86it/s, dice_loss - 0.6513, iou_score - 0.3887, accuracy - 0.9279, precision - 0.4137, recall - 0.8651]\n",
      "\n",
      "Epoch: 5\n",
      "train: 100%|██████████| 43/43 [01:20<00:00,  1.88s/it, dice_loss - 0.6135, iou_score - 0.439, accuracy - 0.9484, precision - 0.4835, recall - 0.8327]\n",
      "valid: 100%|██████████| 61/61 [00:31<00:00,  1.92it/s, dice_loss - 0.6001, iou_score - 0.4344, accuracy - 0.9412, precision - 0.4702, recall - 0.8514]\n",
      "\n",
      "Epoch: 6\n",
      "train: 100%|██████████| 43/43 [01:21<00:00,  1.88s/it, dice_loss - 0.5486, iou_score - 0.4792, accuracy - 0.9555, precision - 0.5458, recall - 0.8041]\n",
      "valid: 100%|██████████| 61/61 [00:31<00:00,  1.92it/s, dice_loss - 0.5427, iou_score - 0.4791, accuracy - 0.9515, precision - 0.532, recall - 0.8289]\n",
      "\n",
      "Epoch: 7\n",
      "train: 100%|██████████| 43/43 [01:20<00:00,  1.87s/it, dice_loss - 0.4916, iou_score - 0.5132, accuracy - 0.9607, precision - 0.5926, recall - 0.8002]\n",
      "valid: 100%|██████████| 61/61 [00:31<00:00,  1.96it/s, dice_loss - 0.5001, iou_score - 0.5105, accuracy - 0.9585, precision - 0.5895, recall - 0.7947]\n",
      "\n",
      "Epoch: 8\n",
      "train: 100%|██████████| 43/43 [01:19<00:00,  1.86s/it, dice_loss - 0.4482, iou_score - 0.5352, accuracy - 0.9644, precision - 0.631, recall - 0.7835]\n",
      "valid: 100%|██████████| 61/61 [00:31<00:00,  1.94it/s, dice_loss - 0.4537, iou_score - 0.5305, accuracy - 0.9632, precision - 0.6323, recall - 0.7694]\n",
      "\n",
      "Epoch: 9\n",
      "train: 100%|██████████| 43/43 [01:20<00:00,  1.87s/it, dice_loss - 0.4115, iou_score - 0.5471, accuracy - 0.9659, precision - 0.6418, recall - 0.7905]\n",
      "valid: 100%|██████████| 61/61 [00:31<00:00,  1.93it/s, dice_loss - 0.4226, iou_score - 0.5534, accuracy - 0.9686, precision - 0.6978, recall - 0.7282]\n",
      "\n",
      "Epoch: 10\n",
      "train: 100%|██████████| 43/43 [01:19<00:00,  1.85s/it, dice_loss - 0.3932, iou_score - 0.5507, accuracy - 0.9684, precision - 0.667, recall - 0.7631]\n",
      "valid: 100%|██████████| 61/61 [00:31<00:00,  1.93it/s, dice_loss - 0.3987, iou_score - 0.5496, accuracy - 0.9662, precision - 0.6562, recall - 0.7721]\n",
      "\n",
      "Epoch: 11\n",
      "train: 100%|██████████| 43/43 [01:18<00:00,  1.83s/it, dice_loss - 0.368, iou_score - 0.5613, accuracy - 0.9696, precision - 0.6784, recall - 0.7671]\n",
      "valid: 100%|██████████| 61/61 [00:31<00:00,  1.92it/s, dice_loss - 0.3734, iou_score - 0.5596, accuracy - 0.9684, precision - 0.6867, recall - 0.7518]\n",
      "\n",
      "Epoch: 12\n",
      "train: 100%|██████████| 43/43 [01:20<00:00,  1.88s/it, dice_loss - 0.3493, iou_score - 0.5681, accuracy - 0.9702, precision - 0.6963, recall - 0.7604]\n",
      "valid: 100%|██████████| 61/61 [00:31<00:00,  1.93it/s, dice_loss - 0.3588, iou_score - 0.5612, accuracy - 0.9687, precision - 0.7004, recall - 0.7391]\n",
      "\n",
      "Epoch: 13\n",
      "train: 100%|██████████| 43/43 [01:19<00:00,  1.85s/it, dice_loss - 0.3394, iou_score - 0.5675, accuracy - 0.9701, precision - 0.6965, recall - 0.7586]\n",
      "valid: 100%|██████████| 61/61 [00:32<00:00,  1.89it/s, dice_loss - 0.345, iou_score - 0.5689, accuracy - 0.9701, precision - 0.7175, recall - 0.7328]\n",
      "\n",
      "Epoch: 14\n",
      "train: 100%|██████████| 43/43 [01:19<00:00,  1.85s/it, dice_loss - 0.3259, iou_score - 0.5752, accuracy - 0.9716, precision - 0.7145, recall - 0.7513]\n",
      "valid: 100%|██████████| 61/61 [00:31<00:00,  1.92it/s, dice_loss - 0.3314, iou_score - 0.5721, accuracy - 0.9709, precision - 0.7273, recall - 0.7276]\n",
      "\n",
      "Epoch: 15\n",
      "train: 100%|██████████| 43/43 [01:18<00:00,  1.83s/it, dice_loss - 0.3075, iou_score - 0.5871, accuracy - 0.9719, precision - 0.7172, recall - 0.766]\n",
      "valid: 100%|██████████| 61/61 [00:31<00:00,  1.93it/s, dice_loss - 0.3236, iou_score - 0.5756, accuracy - 0.9721, precision - 0.7474, recall - 0.7139]\n",
      "\n",
      "Epoch: 16\n",
      "train: 100%|██████████| 43/43 [01:19<00:00,  1.84s/it, dice_loss - 0.3078, iou_score - 0.58, accuracy - 0.9713, precision - 0.716, recall - 0.756]\n",
      "valid: 100%|██████████| 61/61 [00:31<00:00,  1.94it/s, dice_loss - 0.3165, iou_score - 0.5762, accuracy - 0.972, precision - 0.7463, recall - 0.7159]\n",
      "\n",
      "Epoch: 17\n",
      "train: 100%|██████████| 43/43 [01:18<00:00,  1.82s/it, dice_loss - 0.2992, iou_score - 0.5862, accuracy - 0.9721, precision - 0.7187, recall - 0.7639]\n",
      "valid: 100%|██████████| 61/61 [00:32<00:00,  1.90it/s, dice_loss - 0.3119, iou_score - 0.5758, accuracy - 0.9709, precision - 0.7268, recall - 0.7356]\n",
      "\n",
      "Epoch: 18\n",
      "train: 100%|██████████| 43/43 [01:17<00:00,  1.81s/it, dice_loss - 0.2934, iou_score - 0.5877, accuracy - 0.972, precision - 0.7288, recall - 0.7532]\n",
      "valid: 100%|██████████| 61/61 [00:30<00:00,  2.03it/s, dice_loss - 0.3158, iou_score - 0.5685, accuracy - 0.9722, precision - 0.767, recall - 0.688]\n",
      "\n",
      "Epoch: 19\n",
      "train: 100%|██████████| 43/43 [01:16<00:00,  1.77s/it, dice_loss - 0.2932, iou_score - 0.5853, accuracy - 0.9721, precision - 0.729, recall - 0.7504]\n",
      "valid: 100%|██████████| 61/61 [00:29<00:00,  2.03it/s, dice_loss - 0.3051, iou_score - 0.5757, accuracy - 0.9717, precision - 0.7362, recall - 0.7261]\n",
      "\n",
      "Epoch: 20\n",
      "train: 100%|██████████| 43/43 [01:16<00:00,  1.78s/it, dice_loss - 0.2793, iou_score - 0.6021, accuracy - 0.9747, precision - 0.7447, recall - 0.7612]\n",
      "valid: 100%|██████████| 61/61 [00:29<00:00,  2.04it/s, dice_loss - 0.2981, iou_score - 0.5795, accuracy - 0.9724, precision - 0.7544, recall - 0.7149]\n",
      "\n",
      "Epoch: 21\n",
      "train: 100%|██████████| 43/43 [01:18<00:00,  1.83s/it, dice_loss - 0.2838, iou_score - 0.5915, accuracy - 0.9738, precision - 0.7296, recall - 0.7592]\n",
      "valid: 100%|██████████| 61/61 [00:30<00:00,  2.00it/s, dice_loss - 0.2919, iou_score - 0.5847, accuracy - 0.9725, precision - 0.7451, recall - 0.7306]\n",
      "\n",
      "Epoch: 22\n",
      "train: 100%|██████████| 43/43 [01:17<00:00,  1.79s/it, dice_loss - 0.2789, iou_score - 0.5962, accuracy - 0.9748, precision - 0.7451, recall - 0.751]\n",
      "valid: 100%|██████████| 61/61 [00:31<00:00,  1.92it/s, dice_loss - 0.288, iou_score - 0.5855, accuracy - 0.9723, precision - 0.7357, recall - 0.7413]\n",
      "\n",
      "Epoch: 23\n",
      "train: 100%|██████████| 43/43 [01:17<00:00,  1.79s/it, dice_loss - 0.2763, iou_score - 0.5958, accuracy - 0.9741, precision - 0.7419, recall - 0.7529]\n",
      "valid: 100%|██████████| 61/61 [00:31<00:00,  1.97it/s, dice_loss - 0.2863, iou_score - 0.586, accuracy - 0.9731, precision - 0.7643, recall - 0.7148]\n",
      "\n",
      "Epoch: 24\n",
      "train: 100%|██████████| 43/43 [01:19<00:00,  1.84s/it, dice_loss - 0.2677, iou_score - 0.6046, accuracy - 0.975, precision - 0.7477, recall - 0.7608]\n",
      "valid: 100%|██████████| 61/61 [00:31<00:00,  1.96it/s, dice_loss - 0.2845, iou_score - 0.5856, accuracy - 0.9731, precision - 0.7648, recall - 0.714]\n",
      "\n",
      "Epoch: 25\n",
      "train: 100%|██████████| 43/43 [01:17<00:00,  1.81s/it, dice_loss - 0.2736, iou_score - 0.5941, accuracy - 0.9732, precision - 0.7378, recall - 0.7529]\n",
      "valid: 100%|██████████| 61/61 [00:30<00:00,  1.98it/s, dice_loss - 0.2844, iou_score - 0.5839, accuracy - 0.972, precision - 0.7475, recall - 0.7289]\n",
      "\n",
      "Epoch: 26\n",
      "train: 100%|██████████| 43/43 [01:18<00:00,  1.81s/it, dice_loss - 0.2699, iou_score - 0.5962, accuracy - 0.9725, precision - 0.7524, recall - 0.7438]\n",
      "valid: 100%|██████████| 61/61 [00:30<00:00,  2.00it/s, dice_loss - 0.2776, iou_score - 0.5894, accuracy - 0.9724, precision - 0.7397, recall - 0.7434]\n",
      "\n",
      "Epoch: 27\n",
      "train: 100%|██████████| 43/43 [01:18<00:00,  1.82s/it, dice_loss - 0.2644, iou_score - 0.6033, accuracy - 0.9741, precision - 0.7482, recall - 0.7578]\n",
      "valid: 100%|██████████| 61/61 [00:31<00:00,  1.96it/s, dice_loss - 0.28, iou_score - 0.5856, accuracy - 0.973, precision - 0.7558, recall - 0.7224]\n",
      "\n",
      "Epoch: 28\n",
      "train: 100%|██████████| 43/43 [01:17<00:00,  1.81s/it, dice_loss - 0.2709, iou_score - 0.5952, accuracy - 0.9748, precision - 0.7392, recall - 0.755]\n",
      "valid: 100%|██████████| 61/61 [00:31<00:00,  1.96it/s, dice_loss - 0.2833, iou_score - 0.5812, accuracy - 0.9731, precision - 0.7644, recall - 0.709]\n",
      "\n",
      "Epoch: 29\n",
      "train: 100%|██████████| 43/43 [01:18<00:00,  1.82s/it, dice_loss - 0.2644, iou_score - 0.6015, accuracy - 0.9747, precision - 0.7525, recall - 0.7504]\n",
      "valid: 100%|██████████| 61/61 [00:30<00:00,  1.99it/s, dice_loss - 0.2789, iou_score - 0.5842, accuracy - 0.9719, precision - 0.7372, recall - 0.738]\n",
      "\n",
      "Epoch: 30\n",
      "train: 100%|██████████| 43/43 [01:17<00:00,  1.80s/it, dice_loss - 0.2604, iou_score - 0.6046, accuracy - 0.9742, precision - 0.7542, recall - 0.7541]\n",
      "valid: 100%|██████████| 61/61 [00:30<00:00,  2.01it/s, dice_loss - 0.2719, iou_score - 0.5917, accuracy - 0.973, precision - 0.7503, recall - 0.7367]\n",
      "\n",
      "Epoch: 31\n",
      "train: 100%|██████████| 43/43 [01:19<00:00,  1.84s/it, dice_loss - 0.2593, iou_score - 0.6062, accuracy - 0.9746, precision - 0.7429, recall - 0.7676]\n",
      "valid: 100%|██████████| 61/61 [00:31<00:00,  1.92it/s, dice_loss - 0.271, iou_score - 0.5932, accuracy - 0.9735, precision - 0.7607, recall - 0.7294]\n",
      "\n",
      "Epoch: 32\n",
      "train: 100%|██████████| 43/43 [01:19<00:00,  1.85s/it, dice_loss - 0.2596, iou_score - 0.6053, accuracy - 0.9748, precision - 0.7491, recall - 0.7601]\n",
      "valid: 100%|██████████| 61/61 [00:31<00:00,  1.95it/s, dice_loss - 0.2706, iou_score - 0.5936, accuracy - 0.9732, precision - 0.7533, recall - 0.7369]\n",
      "\n",
      "Epoch: 33\n",
      "train: 100%|██████████| 43/43 [01:18<00:00,  1.82s/it, dice_loss - 0.251, iou_score - 0.6151, accuracy - 0.9743, precision - 0.764, recall - 0.7609]\n",
      "valid: 100%|██████████| 61/61 [00:31<00:00,  1.93it/s, dice_loss - 0.2708, iou_score - 0.5932, accuracy - 0.9735, precision - 0.7641, recall - 0.7264]\n",
      "\n",
      "Epoch: 34\n",
      "train: 100%|██████████| 43/43 [01:17<00:00,  1.80s/it, dice_loss - 0.2592, iou_score - 0.6057, accuracy - 0.9745, precision - 0.7573, recall - 0.7536]\n",
      "valid: 100%|██████████| 61/61 [00:30<00:00,  2.03it/s, dice_loss - 0.2707, iou_score - 0.5937, accuracy - 0.9735, precision - 0.7637, recall - 0.7274]\n",
      "\n",
      "Epoch: 35\n",
      "train: 100%|██████████| 43/43 [01:17<00:00,  1.81s/it, dice_loss - 0.2587, iou_score - 0.6067, accuracy - 0.9754, precision - 0.7534, recall - 0.7574]\n",
      "valid: 100%|██████████| 61/61 [00:30<00:00,  2.00it/s, dice_loss - 0.2703, iou_score - 0.5937, accuracy - 0.9732, precision - 0.7571, recall - 0.7337]\n",
      "\n",
      "Epoch: 36\n",
      "train: 100%|██████████| 43/43 [01:16<00:00,  1.78s/it, dice_loss - 0.2523, iou_score - 0.6145, accuracy - 0.9753, precision - 0.7657, recall - 0.7568]\n",
      "valid: 100%|██████████| 61/61 [00:30<00:00,  1.97it/s, dice_loss - 0.2706, iou_score - 0.593, accuracy - 0.9734, precision - 0.7631, recall - 0.7269]\n",
      "\n",
      "Epoch: 37\n",
      "train: 100%|██████████| 43/43 [01:17<00:00,  1.80s/it, dice_loss - 0.2623, iou_score - 0.6017, accuracy - 0.9741, precision - 0.7501, recall - 0.7546]\n",
      "valid: 100%|██████████| 61/61 [00:30<00:00,  2.02it/s, dice_loss - 0.2703, iou_score - 0.5937, accuracy - 0.9733, precision - 0.7607, recall - 0.7302]\n",
      "\n",
      "Epoch: 38\n",
      "train: 100%|██████████| 43/43 [01:16<00:00,  1.79s/it, dice_loss - 0.2611, iou_score - 0.6022, accuracy - 0.9746, precision - 0.7524, recall - 0.753]\n",
      "valid: 100%|██████████| 61/61 [00:30<00:00,  2.02it/s, dice_loss - 0.2709, iou_score - 0.5927, accuracy - 0.9732, precision - 0.7583, recall - 0.7309]\n",
      "\n",
      "Epoch: 39\n",
      "train: 100%|██████████| 43/43 [01:17<00:00,  1.79s/it, dice_loss - 0.2476, iou_score - 0.6205, accuracy - 0.9756, precision - 0.7693, recall - 0.7628]\n",
      "valid: 100%|██████████| 61/61 [00:30<00:00,  2.02it/s, dice_loss - 0.2702, iou_score - 0.5933, accuracy - 0.9734, precision - 0.7632, recall - 0.7275]\n"
     ]
    }
   ],
   "source": [
    "max_score = 0\n",
    "\n",
    "for i in range(40):\n",
    "    \n",
    "    print('\\nEpoch: {}'.format(i))\n",
    "    train_logs = train_epoch.run(train_loader)\n",
    "    valid_logs = valid_epoch.run(valid_loader)\n",
    "    \n",
    "    if max_score < valid_logs['iou_score']:\n",
    "        max_score = valid_logs['iou_score']\n",
    "        torch.save(model, 'best_model.pth')\n",
    "        \n",
    "    if i == 30:\n",
    "        optimizer.param_groups[0]['lr'] = 1e-5"
   ]
  },
  {
   "cell_type": "code",
   "execution_count": 16,
   "metadata": {
    "id": "uyJpP3opNomu"
   },
   "outputs": [],
   "source": [
    "best_model = torch.load('best_model.pth')"
   ]
  },
  {
   "cell_type": "code",
   "execution_count": 17,
   "metadata": {
    "id": "Bffo5MSNatOn"
   },
   "outputs": [],
   "source": [
    "test_epoch = smp.utils.train.ValidEpoch(\n",
    "    model=best_model,\n",
    "    loss=loss,\n",
    "    metrics=metrics,\n",
    "    device=DEVICE,\n",
    ")"
   ]
  },
  {
   "cell_type": "code",
   "execution_count": 18,
   "metadata": {
    "colab": {
     "base_uri": "https://localhost:8080/"
    },
    "id": "GO8bjCm_C1yy",
    "outputId": "c625ae13-b0f5-4463-9726-455dce7ecbfb"
   },
   "outputs": [
    {
     "name": "stdout",
     "output_type": "stream",
     "text": [
      "valid: 100%|██████████| 4/4 [00:22<00:00,  5.68s/it, dice_loss - 0.292, iou_score - 0.5633, accuracy - 0.9664, precision - 0.7532, recall - 0.6915]\n"
     ]
    }
   ],
   "source": [
    "test_loader = RoadsDSLoader(test_df, test_inputs_dir, test_masks_dir, batch_size=4, shuffle=False, num_workers=1, augmentation=get_val_aug(), preprocessing=get_preprocessing(preprocessing_fn))\n",
    "\n",
    "logs = test_epoch.run(test_loader)"
   ]
  },
  {
   "cell_type": "code",
   "execution_count": 19,
   "metadata": {
    "id": "kVh7EUz3IenY"
   },
   "outputs": [],
   "source": [
    "test_dataset = RoadsDataset(test_df, test_inputs_dir, test_masks_dir, augmentation=get_val_aug(), preprocessing=get_preprocessing(preprocessing_fn))"
   ]
  },
  {
   "cell_type": "code",
   "execution_count": 20,
   "metadata": {
    "id": "4s6CULexKUL6"
   },
   "outputs": [],
   "source": [
    "for i in range(len(test_df)):\n",
    "    img_name = test_df[i]\n",
    "    image, gt_mask = test_dataset[i]\n",
    "    \n",
    "    gt_mask = gt_mask.squeeze()\n",
    "    \n",
    "    x_tensor = torch.from_numpy(image).to(DEVICE).unsqueeze(0)\n",
    "    pr_mask = best_model.predict(x_tensor)\n",
    "    pr_mask = pr_mask.squeeze().cpu()\n",
    "    cv2.imwrite('preds/' + img_name, 255 * np.array(pr_mask))"
   ]
  },
  {
   "cell_type": "code",
   "execution_count": null,
   "metadata": {
    "id": "21VEDPzdN8di"
   },
   "outputs": [],
   "source": []
  }
 ],
 "metadata": {
  "accelerator": "GPU",
  "colab": {
   "collapsed_sections": [],
   "name": "Mass_roads_segmentation.ipynb",
   "provenance": []
  },
  "kernelspec": {
   "display_name": "Python 3",
   "language": "python",
   "name": "python3"
  },
  "language_info": {
   "codemirror_mode": {
    "name": "ipython",
    "version": 3
   },
   "file_extension": ".py",
   "mimetype": "text/x-python",
   "name": "python",
   "nbconvert_exporter": "python",
   "pygments_lexer": "ipython3",
   "version": "3.7.4"
  },
  "widgets": {
   "application/vnd.jupyter.widget-state+json": {
    "0f2062694e4945b7ac50a7ad8c0ff683": {
     "model_module": "@jupyter-widgets/base",
     "model_module_version": "1.2.0",
     "model_name": "LayoutModel",
     "state": {
      "_model_module": "@jupyter-widgets/base",
      "_model_module_version": "1.2.0",
      "_model_name": "LayoutModel",
      "_view_count": null,
      "_view_module": "@jupyter-widgets/base",
      "_view_module_version": "1.2.0",
      "_view_name": "LayoutView",
      "align_content": null,
      "align_items": null,
      "align_self": null,
      "border": null,
      "bottom": null,
      "display": null,
      "flex": null,
      "flex_flow": null,
      "grid_area": null,
      "grid_auto_columns": null,
      "grid_auto_flow": null,
      "grid_auto_rows": null,
      "grid_column": null,
      "grid_gap": null,
      "grid_row": null,
      "grid_template_areas": null,
      "grid_template_columns": null,
      "grid_template_rows": null,
      "height": null,
      "justify_content": null,
      "justify_items": null,
      "left": null,
      "margin": null,
      "max_height": null,
      "max_width": null,
      "min_height": null,
      "min_width": null,
      "object_fit": null,
      "object_position": null,
      "order": null,
      "overflow": null,
      "overflow_x": null,
      "overflow_y": null,
      "padding": null,
      "right": null,
      "top": null,
      "visibility": null,
      "width": null
     }
    },
    "392aa91f424c4c68b39d04dcff0f1282": {
     "model_module": "@jupyter-widgets/controls",
     "model_module_version": "1.5.0",
     "model_name": "ProgressStyleModel",
     "state": {
      "_model_module": "@jupyter-widgets/controls",
      "_model_module_version": "1.5.0",
      "_model_name": "ProgressStyleModel",
      "_view_count": null,
      "_view_module": "@jupyter-widgets/base",
      "_view_module_version": "1.2.0",
      "_view_name": "StyleView",
      "bar_color": null,
      "description_width": ""
     }
    },
    "3b5c8b6b1e204557b64a575905553b4c": {
     "model_module": "@jupyter-widgets/controls",
     "model_module_version": "1.5.0",
     "model_name": "DescriptionStyleModel",
     "state": {
      "_model_module": "@jupyter-widgets/controls",
      "_model_module_version": "1.5.0",
      "_model_name": "DescriptionStyleModel",
      "_view_count": null,
      "_view_module": "@jupyter-widgets/base",
      "_view_module_version": "1.2.0",
      "_view_name": "StyleView",
      "description_width": ""
     }
    },
    "5bd239227acc4cce9609e999d9623102": {
     "model_module": "@jupyter-widgets/controls",
     "model_module_version": "1.5.0",
     "model_name": "HTMLModel",
     "state": {
      "_dom_classes": [],
      "_model_module": "@jupyter-widgets/controls",
      "_model_module_version": "1.5.0",
      "_model_name": "HTMLModel",
      "_view_count": null,
      "_view_module": "@jupyter-widgets/controls",
      "_view_module_version": "1.5.0",
      "_view_name": "HTMLView",
      "description": "",
      "description_tooltip": null,
      "layout": "IPY_MODEL_c17d80bcf799468e99260594ec88eefa",
      "placeholder": "​",
      "style": "IPY_MODEL_3b5c8b6b1e204557b64a575905553b4c",
      "value": "100%"
     }
    },
    "5cc5cc4aa0274660959ea9ab12b47e92": {
     "model_module": "@jupyter-widgets/controls",
     "model_module_version": "1.5.0",
     "model_name": "DescriptionStyleModel",
     "state": {
      "_model_module": "@jupyter-widgets/controls",
      "_model_module_version": "1.5.0",
      "_model_name": "DescriptionStyleModel",
      "_view_count": null,
      "_view_module": "@jupyter-widgets/base",
      "_view_module_version": "1.2.0",
      "_view_name": "StyleView",
      "description_width": ""
     }
    },
    "99691bb3133a4e259e5513c34d3523ae": {
     "model_module": "@jupyter-widgets/controls",
     "model_module_version": "1.5.0",
     "model_name": "HTMLModel",
     "state": {
      "_dom_classes": [],
      "_model_module": "@jupyter-widgets/controls",
      "_model_module_version": "1.5.0",
      "_model_name": "HTMLModel",
      "_view_count": null,
      "_view_module": "@jupyter-widgets/controls",
      "_view_module_version": "1.5.0",
      "_view_name": "HTMLView",
      "description": "",
      "description_tooltip": null,
      "layout": "IPY_MODEL_a6a76af027444e199c905895d344d7b1",
      "placeholder": "​",
      "style": "IPY_MODEL_5cc5cc4aa0274660959ea9ab12b47e92",
      "value": " 117M/117M [00:01&lt;00:00, 68.0MB/s]"
     }
    },
    "a6a76af027444e199c905895d344d7b1": {
     "model_module": "@jupyter-widgets/base",
     "model_module_version": "1.2.0",
     "model_name": "LayoutModel",
     "state": {
      "_model_module": "@jupyter-widgets/base",
      "_model_module_version": "1.2.0",
      "_model_name": "LayoutModel",
      "_view_count": null,
      "_view_module": "@jupyter-widgets/base",
      "_view_module_version": "1.2.0",
      "_view_name": "LayoutView",
      "align_content": null,
      "align_items": null,
      "align_self": null,
      "border": null,
      "bottom": null,
      "display": null,
      "flex": null,
      "flex_flow": null,
      "grid_area": null,
      "grid_auto_columns": null,
      "grid_auto_flow": null,
      "grid_auto_rows": null,
      "grid_column": null,
      "grid_gap": null,
      "grid_row": null,
      "grid_template_areas": null,
      "grid_template_columns": null,
      "grid_template_rows": null,
      "height": null,
      "justify_content": null,
      "justify_items": null,
      "left": null,
      "margin": null,
      "max_height": null,
      "max_width": null,
      "min_height": null,
      "min_width": null,
      "object_fit": null,
      "object_position": null,
      "order": null,
      "overflow": null,
      "overflow_x": null,
      "overflow_y": null,
      "padding": null,
      "right": null,
      "top": null,
      "visibility": null,
      "width": null
     }
    },
    "c17d80bcf799468e99260594ec88eefa": {
     "model_module": "@jupyter-widgets/base",
     "model_module_version": "1.2.0",
     "model_name": "LayoutModel",
     "state": {
      "_model_module": "@jupyter-widgets/base",
      "_model_module_version": "1.2.0",
      "_model_name": "LayoutModel",
      "_view_count": null,
      "_view_module": "@jupyter-widgets/base",
      "_view_module_version": "1.2.0",
      "_view_name": "LayoutView",
      "align_content": null,
      "align_items": null,
      "align_self": null,
      "border": null,
      "bottom": null,
      "display": null,
      "flex": null,
      "flex_flow": null,
      "grid_area": null,
      "grid_auto_columns": null,
      "grid_auto_flow": null,
      "grid_auto_rows": null,
      "grid_column": null,
      "grid_gap": null,
      "grid_row": null,
      "grid_template_areas": null,
      "grid_template_columns": null,
      "grid_template_rows": null,
      "height": null,
      "justify_content": null,
      "justify_items": null,
      "left": null,
      "margin": null,
      "max_height": null,
      "max_width": null,
      "min_height": null,
      "min_width": null,
      "object_fit": null,
      "object_position": null,
      "order": null,
      "overflow": null,
      "overflow_x": null,
      "overflow_y": null,
      "padding": null,
      "right": null,
      "top": null,
      "visibility": null,
      "width": null
     }
    },
    "cfb6cbfa3cbd4e89aab44d6c999a2b70": {
     "model_module": "@jupyter-widgets/controls",
     "model_module_version": "1.5.0",
     "model_name": "FloatProgressModel",
     "state": {
      "_dom_classes": [],
      "_model_module": "@jupyter-widgets/controls",
      "_model_module_version": "1.5.0",
      "_model_name": "FloatProgressModel",
      "_view_count": null,
      "_view_module": "@jupyter-widgets/controls",
      "_view_module_version": "1.5.0",
      "_view_name": "ProgressView",
      "bar_style": "success",
      "description": "",
      "description_tooltip": null,
      "layout": "IPY_MODEL_0f2062694e4945b7ac50a7ad8c0ff683",
      "max": 122410125,
      "min": 0,
      "orientation": "horizontal",
      "style": "IPY_MODEL_392aa91f424c4c68b39d04dcff0f1282",
      "value": 122410125
     }
    },
    "f055fb5b76cf4030bcd4e1e8f02b09b2": {
     "model_module": "@jupyter-widgets/base",
     "model_module_version": "1.2.0",
     "model_name": "LayoutModel",
     "state": {
      "_model_module": "@jupyter-widgets/base",
      "_model_module_version": "1.2.0",
      "_model_name": "LayoutModel",
      "_view_count": null,
      "_view_module": "@jupyter-widgets/base",
      "_view_module_version": "1.2.0",
      "_view_name": "LayoutView",
      "align_content": null,
      "align_items": null,
      "align_self": null,
      "border": null,
      "bottom": null,
      "display": null,
      "flex": null,
      "flex_flow": null,
      "grid_area": null,
      "grid_auto_columns": null,
      "grid_auto_flow": null,
      "grid_auto_rows": null,
      "grid_column": null,
      "grid_gap": null,
      "grid_row": null,
      "grid_template_areas": null,
      "grid_template_columns": null,
      "grid_template_rows": null,
      "height": null,
      "justify_content": null,
      "justify_items": null,
      "left": null,
      "margin": null,
      "max_height": null,
      "max_width": null,
      "min_height": null,
      "min_width": null,
      "object_fit": null,
      "object_position": null,
      "order": null,
      "overflow": null,
      "overflow_x": null,
      "overflow_y": null,
      "padding": null,
      "right": null,
      "top": null,
      "visibility": null,
      "width": null
     }
    },
    "f9dcf3e2c5c54d56852f30c606a3e540": {
     "model_module": "@jupyter-widgets/controls",
     "model_module_version": "1.5.0",
     "model_name": "HBoxModel",
     "state": {
      "_dom_classes": [],
      "_model_module": "@jupyter-widgets/controls",
      "_model_module_version": "1.5.0",
      "_model_name": "HBoxModel",
      "_view_count": null,
      "_view_module": "@jupyter-widgets/controls",
      "_view_module_version": "1.5.0",
      "_view_name": "HBoxView",
      "box_style": "",
      "children": [
       "IPY_MODEL_5bd239227acc4cce9609e999d9623102",
       "IPY_MODEL_cfb6cbfa3cbd4e89aab44d6c999a2b70",
       "IPY_MODEL_99691bb3133a4e259e5513c34d3523ae"
      ],
      "layout": "IPY_MODEL_f055fb5b76cf4030bcd4e1e8f02b09b2"
     }
    }
   }
  }
 },
 "nbformat": 4,
 "nbformat_minor": 1
}
